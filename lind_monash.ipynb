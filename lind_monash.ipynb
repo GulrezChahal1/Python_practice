{
 "cells": [
  {
   "cell_type": "code",
   "execution_count": 2,
   "metadata": {},
   "outputs": [
    {
     "name": "stdout",
     "output_type": "stream",
     "text": [
      "Hi\n"
     ]
    }
   ],
   "source": [
    "print (\"Hi\")"
   ]
  },
  {
   "cell_type": "code",
   "execution_count": 4,
   "metadata": {},
   "outputs": [
    {
     "data": {
      "text/plain": [
       "4"
      ]
     },
     "execution_count": 4,
     "metadata": {},
     "output_type": "execute_result"
    }
   ],
   "source": [
    "2+2"
   ]
  },
  {
   "cell_type": "code",
   "execution_count": 1,
   "metadata": {
    "collapsed": true
   },
   "outputs": [],
   "source": [
    "#def function():\n",
    " #   print (\"this is a function\")\n",
    "#if __name__==\"__function\":\n",
    " #   function()"
   ]
  },
  {
   "cell_type": "code",
   "execution_count": 1,
   "metadata": {},
   "outputs": [
    {
     "name": "stdout",
     "output_type": "stream",
     "text": [
      "0\n"
     ]
    }
   ],
   "source": [
    "#variables\n",
    "f=0\n",
    "print (f)"
   ]
  },
  {
   "cell_type": "code",
   "execution_count": 88,
   "metadata": {},
   "outputs": [
    {
     "name": "stdout",
     "output_type": "stream",
     "text": [
      "abgcd\n"
     ]
    }
   ],
   "source": [
    "f=\"abgcd\"\n",
    "print (f)"
   ]
  },
  {
   "cell_type": "code",
   "execution_count": 4,
   "metadata": {},
   "outputs": [
    {
     "name": "stdout",
     "output_type": "stream",
     "text": [
      "converting number to string 123\n"
     ]
    }
   ],
   "source": [
    "print (\"converting number to string \" + str (123))"
   ]
  },
  {
   "cell_type": "code",
   "execution_count": 112,
   "metadata": {},
   "outputs": [
    {
     "name": "stdout",
     "output_type": "stream",
     "text": [
      "start of fun\n",
      "x is greater than y\n",
      "end of funct\n"
     ]
    }
   ],
   "source": [
    "# COME BACK: Printing within a function not working!!!!! tab after tab after tab\n",
    "def main():\n",
    "    x,y=10000,1000\n",
    "    print(\"start of fun\")\n",
    "    if (x < y):\n",
    "        st=\"x is less than y\"\n",
    "    elif(x==y):\n",
    "        st=\"x is same as y\"\n",
    "    else:\n",
    "        st=\"x is greater than y\"\n",
    "    return(st)\n",
    "st=main()\n",
    "print (st)\n",
    "print(\"end of funct\")"
   ]
  },
  {
   "cell_type": "code",
   "execution_count": 100,
   "metadata": {},
   "outputs": [],
   "source": [
    "#main()"
   ]
  },
  {
   "cell_type": "code",
   "execution_count": 115,
   "metadata": {},
   "outputs": [
    {
     "name": "stdout",
     "output_type": "stream",
     "text": [
      "0\n",
      "1\n",
      "2\n",
      "3\n",
      "4\n"
     ]
    }
   ],
   "source": [
    "def loop():\n",
    "    x=0\n",
    "    while(x<5):\n",
    "        print(x)\n",
    "        x=x+1\n",
    "loop()  "
   ]
  },
  {
   "cell_type": "code",
   "execution_count": 122,
   "metadata": {},
   "outputs": [],
   "source": [
    "def forloop():\n",
    "    for i in range(1,10):\n",
    "        print(i)\n",
    "forloop()        "
   ]
  },
  {
   "cell_type": "code",
   "execution_count": 120,
   "metadata": {},
   "outputs": [
    {
     "name": "stdout",
     "output_type": "stream",
     "text": [
      "M\n",
      "Tue\n",
      "W\n",
      "Thur\n",
      "Fri\n"
     ]
    }
   ],
   "source": [
    "days=[\"M\",\"Tue\",\"W\",\"Thur\",\"Fri\"]\n",
    "for d in days:\n",
    "    print (d)"
   ]
  },
  {
   "cell_type": "code",
   "execution_count": null,
   "metadata": {
    "collapsed": true
   },
   "outputs": [],
   "source": []
  }
 ],
 "metadata": {
  "kernelspec": {
   "display_name": "Python 3",
   "language": "python",
   "name": "python3"
  },
  "language_info": {
   "codemirror_mode": {
    "name": "ipython",
    "version": 3
   },
   "file_extension": ".py",
   "mimetype": "text/x-python",
   "name": "python",
   "nbconvert_exporter": "python",
   "pygments_lexer": "ipython3",
   "version": "3.6.3"
  }
 },
 "nbformat": 4,
 "nbformat_minor": 2
}
